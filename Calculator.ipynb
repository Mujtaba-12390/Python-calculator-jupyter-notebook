{
 "cells": [
  {
   "cell_type": "code",
   "execution_count": 3,
   "metadata": {},
   "outputs": [
    {
     "name": "stdout",
     "output_type": "stream",
     "text": [
      "**Welcome To My Calculator\n",
      "-----------------------------\n",
      "Please Enter 1st Number: 25\n",
      "Please Enter 2st Number: 22\n",
      "*****************************************\n",
      "Please Enter any operator such as +,-,*,/+\n",
      "*****************************************\n",
      "Your Result =\n",
      "47.0\n"
     ]
    }
   ],
   "source": [
    "print(\"**Welcome To My Calculator\")\n",
    "print(\"-----------------------------\")\n",
    "\n",
    "no_1=float(input(\"Please Enter 1st Number: \"))\n",
    "no_2=int(input(\"Please Enter 2st Number: \"))\n",
    "print(\"*****************************************\")\n",
    "oper=input(\"Please Enter any operator such as +,-,*,/\")\n",
    "print(\"*****************************************\")\n",
    "print(\"Your Result =\")\n",
    "\n",
    "if oper ==\"+\":\n",
    "    print(no_1+no_2)\n",
    "elif oper ==\"-\":\n",
    "    print(no_1-no_2)\n",
    "elif oper ==\"*\":\n",
    "    print(no_1*no_2)\n",
    "elif oper ==\"/\":\n",
    "    print(no_1/no_2)\n",
    "else:\n",
    "    print(\"404 Not Found\")\n",
    "    \n"
   ]
  },
  {
   "cell_type": "code",
   "execution_count": null,
   "metadata": {},
   "outputs": [],
   "source": []
  }
 ],
 "metadata": {
  "kernelspec": {
   "display_name": "Python 3",
   "language": "python",
   "name": "python3"
  },
  "language_info": {
   "codemirror_mode": {
    "name": "ipython",
    "version": 3
   },
   "file_extension": ".py",
   "mimetype": "text/x-python",
   "name": "python",
   "nbconvert_exporter": "python",
   "pygments_lexer": "ipython3",
   "version": "3.7.3"
  }
 },
 "nbformat": 4,
 "nbformat_minor": 2
}
